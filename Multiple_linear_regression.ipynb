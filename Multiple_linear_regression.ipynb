{
  "nbformat": 4,
  "nbformat_minor": 0,
  "metadata": {
    "colab": {
      "name": "Untitled",
      "provenance": [],
      "toc_visible": true,
      "authorship_tag": "ABX9TyOc8opiK/QIKNiM6mwmW/bo",
      "include_colab_link": true
    },
    "kernelspec": {
      "name": "python3",
      "display_name": "Python 3"
    }
  },
  "cells": [
    {
      "cell_type": "markdown",
      "metadata": {
        "id": "view-in-github",
        "colab_type": "text"
      },
      "source": [
        "<a href=\"https://colab.research.google.com/github/raja1996802/Data-science/blob/main/Multiple_linear_regression.ipynb\" target=\"_parent\"><img src=\"https://colab.research.google.com/assets/colab-badge.svg\" alt=\"Open In Colab\"/></a>"
      ]
    },
    {
      "cell_type": "code",
      "metadata": {
        "id": "tA8UwZiQnz0m"
      },
      "source": [
        "# multiple linear regression\r\n",
        "import matplotlib.pyplot as py\r\n",
        "import pandas as pd\r\n",
        "import numpy as np\r\n"
      ],
      "execution_count": 1,
      "outputs": []
    },
    {
      "cell_type": "code",
      "metadata": {
        "id": "B9iajNpWqiZR"
      },
      "source": [
        "dataset=pd.read_csv('50_Startups.csv')\r\n",
        "x=dataset.iloc[:,:-1].values\r\n",
        "y=dataset.iloc[:,-1].values\r\n"
      ],
      "execution_count": 3,
      "outputs": []
    },
    {
      "cell_type": "code",
      "metadata": {
        "id": "vE5gnxpDrBXq"
      },
      "source": [
        "from sklearn.compose import ColumnTransformer\r\n",
        "from sklearn.preprocessing import OneHotEncoder\r\n",
        "val=ColumnTransformer(transformers=[('encoder',OneHotEncoder(),[3])],remainder='passthrough')\r\n",
        "x=np.array(val.fit_transform(x))"
      ],
      "execution_count": 6,
      "outputs": []
    },
    {
      "cell_type": "code",
      "metadata": {
        "id": "UcExxZUptIud"
      },
      "source": [
        "from sklearn.model_selection import train_test_split\r\n",
        "x_train,x_test,y_train,y_test=train_test_split(x,y,test_size=0.2,random_state=0)"
      ],
      "execution_count": 9,
      "outputs": []
    },
    {
      "cell_type": "code",
      "metadata": {
        "id": "WRJc2qyZuFxI"
      },
      "source": [
        "from sklearn.linear_model import LinearRegression\r\n",
        "regressor=LinearRegression()"
      ],
      "execution_count": 10,
      "outputs": []
    },
    {
      "cell_type": "code",
      "metadata": {
        "colab": {
          "base_uri": "https://localhost:8080/"
        },
        "id": "-QabSWH0v6Pv",
        "outputId": "764ab9b4-6be6-49a8-8ff8-72d89f6c93c3"
      },
      "source": [
        "regressor.fit(x_train,y_train)"
      ],
      "execution_count": 11,
      "outputs": [
        {
          "output_type": "execute_result",
          "data": {
            "text/plain": [
              "LinearRegression(copy_X=True, fit_intercept=True, n_jobs=None, normalize=False)"
            ]
          },
          "metadata": {
            "tags": []
          },
          "execution_count": 11
        }
      ]
    },
    {
      "cell_type": "code",
      "metadata": {
        "id": "RQblWD9RwSJB"
      },
      "source": [
        "y_pred=regressor.predict(x_train)"
      ],
      "execution_count": 12,
      "outputs": []
    },
    {
      "cell_type": "code",
      "metadata": {
        "colab": {
          "base_uri": "https://localhost:8080/"
        },
        "id": "e096ev80wc6B",
        "outputId": "d72d17a9-1b0c-4438-e189-479094a37cff"
      },
      "source": [
        "print(y_pred)\r\n",
        "print(y_train)"
      ],
      "execution_count": 13,
      "outputs": [
        {
          "output_type": "stream",
          "text": [
            "[ 95764.42320496  89164.62849778 109506.72329085  91366.2188941\n",
            " 127111.48666647 159019.04337115 148905.98812541  48179.60744027\n",
            "  45374.34722506 102951.95967979 145449.631784    96684.71387297\n",
            "  97535.35761938 116571.15139254  69421.13311311 116212.62095134\n",
            "  60736.5326761  152787.95464279 127413.0337311  102210.16391826\n",
            " 161822.72264072 131583.61511492  75019.09161336  48054.91969392\n",
            " 189547.28196895 127528.92248423  85540.50570954 111255.82514049\n",
            " 156191.10124354 108464.25100332  75306.81185049 119915.38726756\n",
            " 115144.58914953 152688.9067796   81513.47163491  57298.28613019\n",
            " 172852.2833664  192919.57537466  47007.62737748  65835.99435875]\n",
            "[ 96778.92  96479.51 105733.54  96712.8  124266.9  155752.6  132602.65\n",
            "  64926.08  35673.41 101004.64 129917.04  99937.59  97427.84 126992.93\n",
            "  71498.49 118474.03  69758.98 152211.77 134307.35 107404.34 156991.12\n",
            " 125370.37  78239.91  14681.4  191792.06 141585.52  89949.14 108552.04\n",
            " 156122.51 108733.99  90708.19 111313.02 122776.86 149759.96  81005.76\n",
            "  49490.75 182901.99 192261.83  42559.73  65200.33]\n"
          ],
          "name": "stdout"
        }
      ]
    },
    {
      "cell_type": "code",
      "metadata": {
        "id": "743h-FuHwiqg"
      },
      "source": [
        ""
      ],
      "execution_count": null,
      "outputs": []
    }
  ]
}