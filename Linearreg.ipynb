{
  "nbformat": 4,
  "nbformat_minor": 0,
  "metadata": {
    "colab": {
      "name": "Untitled0.ipynb",
      "provenance": [],
      "authorship_tag": "ABX9TyO6TKWdr6ZI/lHQblHEDRUA",
      "include_colab_link": true
    },
    "kernelspec": {
      "name": "python3",
      "display_name": "Python 3"
    }
  },
  "cells": [
    {
      "cell_type": "markdown",
      "metadata": {
        "id": "view-in-github",
        "colab_type": "text"
      },
      "source": [
        "<a href=\"https://colab.research.google.com/github/raja1996802/Data-science/blob/main/Linearreg.ipynb\" target=\"_parent\"><img src=\"https://colab.research.google.com/assets/colab-badge.svg\" alt=\"Open In Colab\"/></a>"
      ]
    },
    {
      "cell_type": "code",
      "metadata": {
        "id": "0zTFYLLRi7J8"
      },
      "source": [
        "# Python Linear regression "
      ],
      "execution_count": 1,
      "outputs": []
    },
    {
      "cell_type": "code",
      "metadata": {
        "id": "G5WD1cFMjFLi"
      },
      "source": [
        "import pandas as pd\r\n",
        "import numpy as np\r\n",
        "import matplotlib.pyplot as plt"
      ],
      "execution_count": 2,
      "outputs": []
    },
    {
      "cell_type": "code",
      "metadata": {
        "id": "kWM0p7_3jW-1"
      },
      "source": [
        "dataset=pd.read_csv(\"Salary_Data.csv\")"
      ],
      "execution_count": 3,
      "outputs": []
    },
    {
      "cell_type": "code",
      "metadata": {
        "id": "6sFbJUHaj4gI"
      },
      "source": [
        "x=dataset.iloc[:,:-1].values\r\n",
        "y=dataset.iloc[:,-1].values"
      ],
      "execution_count": 5,
      "outputs": []
    },
    {
      "cell_type": "code",
      "metadata": {
        "id": "nrIIB3d4j7bR"
      },
      "source": [
        "from sklearn.model_selection import train_test_split\r\n",
        "X_train, X_test, y_train, y_test = train_test_split(x, y, test_size = 1/3, random_state = 0)"
      ],
      "execution_count": 11,
      "outputs": []
    },
    {
      "cell_type": "code",
      "metadata": {
        "colab": {
          "base_uri": "https://localhost:8080/"
        },
        "id": "sNrLRtF8kSkh",
        "outputId": "747a5b70-e0b8-42ea-800c-c48465a88f0f"
      },
      "source": [
        "from sklearn.linear_model import LinearRegression\r\n",
        "regressor = LinearRegression()\r\n",
        "regressor.fit(X_train, y_train)\r\n"
      ],
      "execution_count": 12,
      "outputs": [
        {
          "output_type": "execute_result",
          "data": {
            "text/plain": [
              "LinearRegression(copy_X=True, fit_intercept=True, n_jobs=None, normalize=False)"
            ]
          },
          "metadata": {
            "tags": []
          },
          "execution_count": 12
        }
      ]
    },
    {
      "cell_type": "code",
      "metadata": {
        "id": "dK3XGHBPljat"
      },
      "source": [
        "\r\n",
        "y_pred = regressor.predict(X_test)"
      ],
      "execution_count": 13,
      "outputs": []
    },
    {
      "cell_type": "code",
      "metadata": {
        "colab": {
          "base_uri": "https://localhost:8080/"
        },
        "id": "iPLCQJS-loTT",
        "outputId": "02b1c2b0-afb0-4e60-f8fe-3d3425c88d15"
      },
      "source": [
        "print(y_train)\r\n",
        "print(y_pred)\r\n"
      ],
      "execution_count": 14,
      "outputs": [
        {
          "output_type": "stream",
          "text": [
            "[ 56642.  66029.  64445.  61111. 113812.  91738.  46205. 121872.  60150.\n",
            "  39891.  81363.  93940.  57189.  54445. 105582.  43525.  39343.  98273.\n",
            "  67938.  56957.]\n",
            "[ 40835.10590871 123079.39940819  65134.55626083  63265.36777221\n",
            " 115602.64545369 108125.8914992  116537.23969801  64199.96201652\n",
            "  76349.68719258 100649.1375447 ]\n"
          ],
          "name": "stdout"
        }
      ]
    },
    {
      "cell_type": "code",
      "metadata": {
        "id": "AAQmOPDUlz68"
      },
      "source": [
        ""
      ],
      "execution_count": null,
      "outputs": []
    }
  ]
}